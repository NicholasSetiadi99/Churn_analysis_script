{
  "nbformat": 4,
  "nbformat_minor": 0,
  "metadata": {
    "colab": {
      "provenance": [],
      "authorship_tag": "ABX9TyMm63ZpJ00Zu4aaFqOnwB5W",
      "include_colab_link": true
    },
    "kernelspec": {
      "name": "python3",
      "display_name": "Python 3"
    },
    "language_info": {
      "name": "python"
    }
  },
  "cells": [
    {
      "cell_type": "markdown",
      "metadata": {
        "id": "view-in-github",
        "colab_type": "text"
      },
      "source": [
        "<a href=\"https://colab.research.google.com/github/NicholasSetiadi99/Churn_analysis_script/blob/main/Churn_Analysis_Script.ipynb\" target=\"_parent\"><img src=\"https://colab.research.google.com/assets/colab-badge.svg\" alt=\"Open In Colab\"/></a>"
      ]
    },
    {
      "cell_type": "code",
      "source": [
        "!pip install pymysql"
      ],
      "metadata": {
        "id": "GpWaYmFwD7xs",
        "outputId": "75a15016-9634-4ba8-f2d4-389d4d2654c7",
        "colab": {
          "base_uri": "https://localhost:8080/"
        }
      },
      "execution_count": 3,
      "outputs": [
        {
          "output_type": "stream",
          "name": "stdout",
          "text": [
            "Collecting pymysql\n",
            "  Downloading PyMySQL-1.1.0-py3-none-any.whl (44 kB)\n",
            "\u001b[?25l     \u001b[90m━━━━━━━━━━━━━━━━━━━━━━━━━━━━━━━━━━━━━━━━\u001b[0m \u001b[32m0.0/44.8 kB\u001b[0m \u001b[31m?\u001b[0m eta \u001b[36m-:--:--\u001b[0m\r\u001b[2K     \u001b[91m━━━━━━━━━━━━━━━━━━━━━━━━━━━━━━━━━━━━\u001b[0m\u001b[91m╸\u001b[0m\u001b[90m━━━\u001b[0m \u001b[32m41.0/44.8 kB\u001b[0m \u001b[31m1.2 MB/s\u001b[0m eta \u001b[36m0:00:01\u001b[0m\r\u001b[2K     \u001b[90m━━━━━━━━━━━━━━━━━━━━━━━━━━━━━━━━━━━━━━━\u001b[0m \u001b[32m44.8/44.8 kB\u001b[0m \u001b[31m871.5 kB/s\u001b[0m eta \u001b[36m0:00:00\u001b[0m\n",
            "\u001b[?25hInstalling collected packages: pymysql\n",
            "Successfully installed pymysql-1.1.0\n"
          ]
        }
      ]
    },
    {
      "cell_type": "code",
      "source": [
        "import pymysql\n",
        "import pandas as pd\n",
        "pymysql.install_as_MySQLdb()\n",
        "import MySQLdb\n",
        "import numpy as np\n",
        "\n",
        "# Set MySQL connection parameters\n",
        "db_connection = MySQLdb.connect(host='1.1.1.1', database='mock_database', user='nicholas_test', password='xxxxx')\n",
        "db_cursor = db_connection.cursor()\n",
        "\n",
        "# Define months and column names\n",
        "months = (1, 2, 3, 4, 5, 6, 7, 8, 9, 10, 11, 12)\n",
        "column_names = [\"Month\", \"UserID\", \"MonthlyDeposit\", \"CumulativeDeposit\", \"MonthlyWithdrawal\", \"CumulativeWithdrawal\", \"fullWithdrawal?\"]\n",
        "\n",
        "# Create an empty list to store DataFrames\n",
        "dfs = []\n",
        "\n",
        "# SQL query template\n",
        "query = '''\n",
        "SELECT %s, u.email, IFNULL(monthlyDepAmt, 0), IFNULL(cumDepAmt, 0), IFNULL(monthlyWitAmt, 0), IFNULL(cumWitAmt, 0), IFNULL(fullWit, 0)\n",
        "FROM (\n",
        "    SELECT email, id, MONTH(date_created) AS \"Month\", YEAR(date_created) AS \"Year\"\n",
        "    FROM USER\n",
        "    WHERE MONTH(date_created) <= %s\n",
        "    AND YEAR(date_created) = 2021\n",
        "    AND kyc_status = \"VERIFIED\"\n",
        "    AND status = \"ACTIVE\"\n",
        "    AND id IN (SELECT user_id FROM DEPOSIT WHERE status IN (\"APPROVED\", \"BOOKED\"))\n",
        ") u\n",
        "LEFT JOIN (\n",
        "    SELECT user_id, SUM(amount) AS monthlyDepAmt\n",
        "    FROM DEPOSIT\n",
        "    WHERE status IN (\"APPROVED\", \"BOOKED\")\n",
        "    AND MONTH(date_created) = %s\n",
        "    AND YEAR(date_created) = 2021\n",
        "    GROUP BY user_id\n",
        ") mD ON u.id = mD.user_id\n",
        "LEFT JOIN (\n",
        "    SELECT user_id, SUM(amount) AS monthlyWitAmt, MAX(is_full_withdrawal) AS fullWit\n",
        "    FROM WITHDRAWAL\n",
        "    WHERE status IN (\"APPROVED\", \"BOOKED\")\n",
        "    AND MONTH(date_created) = %s\n",
        "    AND YEAR(date_created) = 2021\n",
        "    GROUP BY user_id\n",
        ") mW ON u.id = mW.user_id\n",
        "LEFT JOIN (\n",
        "    SELECT user_id, SUM(amount) AS cumDepAmt\n",
        "    FROM DEPOSIT\n",
        "    WHERE status IN (\"APPROVED\", \"BOOKED\")\n",
        "    AND MONTH(date_created) <= %s\n",
        "    AND YEAR(date_created) = 2021\n",
        "    GROUP BY user_id\n",
        ") cD ON u.id = cD.user_id\n",
        "LEFT JOIN (\n",
        "    SELECT user_id, SUM(amount) AS cumWitAmt\n",
        "    FROM WITHDRAWAL\n",
        "    WHERE status IN (\"APPROVED\", \"BOOKED\")\n",
        "    AND MONTH(date_created) <= %s\n",
        "    AND YEAR(date_created) = 2021\n",
        "    GROUP BY user_id\n",
        ") cW ON u.id = cW.user_id;\n",
        "'''\n",
        "\n",
        "# Loop through months and execute the query\n",
        "for month in months:\n",
        "    db_cursor.execute(query, (month, month, month, month, month, month))\n",
        "    table_rows = db_cursor.fetchall()\n",
        "    df = pd.DataFrame(table_rows, columns=column_names)\n",
        "    dfs.append(df)\n",
        "\n",
        "# Concatenate the DataFrames\n",
        "df = pd.concat(dfs, ignore_index=True)\n",
        "\n",
        "# Sort the DataFrame\n",
        "df = df.sort_values(by=['UserID', 'Month'], ascending=True)\n",
        "\n",
        "# Calculate Churn and Comeback\n",
        "df['Churn'] = np.where((df['CumulativeWithdrawal'] == 0) | (df['CumulativeWithdrawal'] < df['CumulativeDeposit']), 'No', 'Churn')\n",
        "df['Comeback'] = np.where((df['UserID'].shift() == df['UserID']) & (df['CumulativeDeposit'] > df['CumulativeWithdrawal']) & (df['Churn'].shift() == 'Churn'), 'Comeback', 'No')\n",
        "\n",
        "# Export the DataFrame to a CSV file\n",
        "df.to_csv('churn_analysis_script2021.csv', index=False)\n",
        "\n",
        "# Close the MySQL connection\n",
        "db_cursor.close()\n",
        "db_connection.close()"
      ],
      "metadata": {
        "id": "ze8dsiZyAj-k",
        "outputId": "cc59c3aa-dbaa-4aac-cf2f-00fc39b2d6c2",
        "colab": {
          "base_uri": "https://localhost:8080/",
          "height": 442
        }
      },
      "execution_count": 4,
      "outputs": [
        {
          "output_type": "error",
          "ename": "OperationalError",
          "evalue": "ignored",
          "traceback": [
            "\u001b[0;31m---------------------------------------------------------------------------\u001b[0m",
            "\u001b[0;31mTimeoutError\u001b[0m                              Traceback (most recent call last)",
            "\u001b[0;32m/usr/local/lib/python3.10/dist-packages/pymysql/connections.py\u001b[0m in \u001b[0;36mconnect\u001b[0;34m(self, sock)\u001b[0m\n\u001b[1;32m    643\u001b[0m                         \u001b[0;32mtry\u001b[0m\u001b[0;34m:\u001b[0m\u001b[0;34m\u001b[0m\u001b[0;34m\u001b[0m\u001b[0m\n\u001b[0;32m--> 644\u001b[0;31m                             sock = socket.create_connection(\n\u001b[0m\u001b[1;32m    645\u001b[0m                                 \u001b[0;34m(\u001b[0m\u001b[0mself\u001b[0m\u001b[0;34m.\u001b[0m\u001b[0mhost\u001b[0m\u001b[0;34m,\u001b[0m \u001b[0mself\u001b[0m\u001b[0;34m.\u001b[0m\u001b[0mport\u001b[0m\u001b[0;34m)\u001b[0m\u001b[0;34m,\u001b[0m \u001b[0mself\u001b[0m\u001b[0;34m.\u001b[0m\u001b[0mconnect_timeout\u001b[0m\u001b[0;34m,\u001b[0m \u001b[0;34m**\u001b[0m\u001b[0mkwargs\u001b[0m\u001b[0;34m\u001b[0m\u001b[0;34m\u001b[0m\u001b[0m\n",
            "\u001b[0;32m/usr/lib/python3.10/socket.py\u001b[0m in \u001b[0;36mcreate_connection\u001b[0;34m(address, timeout, source_address)\u001b[0m\n\u001b[1;32m    844\u001b[0m         \u001b[0;32mtry\u001b[0m\u001b[0;34m:\u001b[0m\u001b[0;34m\u001b[0m\u001b[0;34m\u001b[0m\u001b[0m\n\u001b[0;32m--> 845\u001b[0;31m             \u001b[0;32mraise\u001b[0m \u001b[0merr\u001b[0m\u001b[0;34m\u001b[0m\u001b[0;34m\u001b[0m\u001b[0m\n\u001b[0m\u001b[1;32m    846\u001b[0m         \u001b[0;32mfinally\u001b[0m\u001b[0;34m:\u001b[0m\u001b[0;34m\u001b[0m\u001b[0;34m\u001b[0m\u001b[0m\n",
            "\u001b[0;32m/usr/lib/python3.10/socket.py\u001b[0m in \u001b[0;36mcreate_connection\u001b[0;34m(address, timeout, source_address)\u001b[0m\n\u001b[1;32m    832\u001b[0m                 \u001b[0msock\u001b[0m\u001b[0;34m.\u001b[0m\u001b[0mbind\u001b[0m\u001b[0;34m(\u001b[0m\u001b[0msource_address\u001b[0m\u001b[0;34m)\u001b[0m\u001b[0;34m\u001b[0m\u001b[0;34m\u001b[0m\u001b[0m\n\u001b[0;32m--> 833\u001b[0;31m             \u001b[0msock\u001b[0m\u001b[0;34m.\u001b[0m\u001b[0mconnect\u001b[0m\u001b[0;34m(\u001b[0m\u001b[0msa\u001b[0m\u001b[0;34m)\u001b[0m\u001b[0;34m\u001b[0m\u001b[0;34m\u001b[0m\u001b[0m\n\u001b[0m\u001b[1;32m    834\u001b[0m             \u001b[0;31m# Break explicitly a reference cycle\u001b[0m\u001b[0;34m\u001b[0m\u001b[0;34m\u001b[0m\u001b[0m\n",
            "\u001b[0;31mTimeoutError\u001b[0m: timed out",
            "\nDuring handling of the above exception, another exception occurred:\n",
            "\u001b[0;31mOperationalError\u001b[0m                          Traceback (most recent call last)",
            "\u001b[0;32m<ipython-input-4-450b299b7c12>\u001b[0m in \u001b[0;36m<cell line: 8>\u001b[0;34m()\u001b[0m\n\u001b[1;32m      6\u001b[0m \u001b[0;34m\u001b[0m\u001b[0m\n\u001b[1;32m      7\u001b[0m \u001b[0;31m# Set MySQL connection parameters\u001b[0m\u001b[0;34m\u001b[0m\u001b[0;34m\u001b[0m\u001b[0m\n\u001b[0;32m----> 8\u001b[0;31m \u001b[0mdb_connection\u001b[0m \u001b[0;34m=\u001b[0m \u001b[0mMySQLdb\u001b[0m\u001b[0;34m.\u001b[0m\u001b[0mconnect\u001b[0m\u001b[0;34m(\u001b[0m\u001b[0mhost\u001b[0m\u001b[0;34m=\u001b[0m\u001b[0;34m'11.111.111.111'\u001b[0m\u001b[0;34m,\u001b[0m \u001b[0mdatabase\u001b[0m\u001b[0;34m=\u001b[0m\u001b[0;34m'mock_database'\u001b[0m\u001b[0;34m,\u001b[0m \u001b[0muser\u001b[0m\u001b[0;34m=\u001b[0m\u001b[0;34m'nicholas_test'\u001b[0m\u001b[0;34m,\u001b[0m \u001b[0mpassword\u001b[0m\u001b[0;34m=\u001b[0m\u001b[0;34m'xxxxx'\u001b[0m\u001b[0;34m)\u001b[0m\u001b[0;34m\u001b[0m\u001b[0;34m\u001b[0m\u001b[0m\n\u001b[0m\u001b[1;32m      9\u001b[0m \u001b[0mdb_cursor\u001b[0m \u001b[0;34m=\u001b[0m \u001b[0mdb_connection\u001b[0m\u001b[0;34m.\u001b[0m\u001b[0mcursor\u001b[0m\u001b[0;34m(\u001b[0m\u001b[0;34m)\u001b[0m\u001b[0;34m\u001b[0m\u001b[0;34m\u001b[0m\u001b[0m\n\u001b[1;32m     10\u001b[0m \u001b[0;34m\u001b[0m\u001b[0m\n",
            "\u001b[0;32m/usr/local/lib/python3.10/dist-packages/pymysql/connections.py\u001b[0m in \u001b[0;36m__init__\u001b[0;34m(self, user, password, host, database, unix_socket, port, charset, collation, sql_mode, read_default_file, conv, use_unicode, client_flag, cursorclass, init_command, connect_timeout, read_default_group, autocommit, local_infile, max_allowed_packet, defer_connect, auth_plugin_map, read_timeout, write_timeout, bind_address, binary_prefix, program_name, server_public_key, ssl, ssl_ca, ssl_cert, ssl_disabled, ssl_key, ssl_verify_cert, ssl_verify_identity, compress, named_pipe, passwd, db)\u001b[0m\n\u001b[1;32m    356\u001b[0m             \u001b[0mself\u001b[0m\u001b[0;34m.\u001b[0m\u001b[0m_sock\u001b[0m \u001b[0;34m=\u001b[0m \u001b[0;32mNone\u001b[0m\u001b[0;34m\u001b[0m\u001b[0;34m\u001b[0m\u001b[0m\n\u001b[1;32m    357\u001b[0m         \u001b[0;32melse\u001b[0m\u001b[0;34m:\u001b[0m\u001b[0;34m\u001b[0m\u001b[0;34m\u001b[0m\u001b[0m\n\u001b[0;32m--> 358\u001b[0;31m             \u001b[0mself\u001b[0m\u001b[0;34m.\u001b[0m\u001b[0mconnect\u001b[0m\u001b[0;34m(\u001b[0m\u001b[0;34m)\u001b[0m\u001b[0;34m\u001b[0m\u001b[0;34m\u001b[0m\u001b[0m\n\u001b[0m\u001b[1;32m    359\u001b[0m \u001b[0;34m\u001b[0m\u001b[0m\n\u001b[1;32m    360\u001b[0m     \u001b[0;32mdef\u001b[0m \u001b[0m__enter__\u001b[0m\u001b[0;34m(\u001b[0m\u001b[0mself\u001b[0m\u001b[0;34m)\u001b[0m\u001b[0;34m:\u001b[0m\u001b[0;34m\u001b[0m\u001b[0;34m\u001b[0m\u001b[0m\n",
            "\u001b[0;32m/usr/local/lib/python3.10/dist-packages/pymysql/connections.py\u001b[0m in \u001b[0;36mconnect\u001b[0;34m(self, sock)\u001b[0m\n\u001b[1;32m    709\u001b[0m                 \u001b[0;32mif\u001b[0m \u001b[0mDEBUG\u001b[0m\u001b[0;34m:\u001b[0m\u001b[0;34m\u001b[0m\u001b[0;34m\u001b[0m\u001b[0m\n\u001b[1;32m    710\u001b[0m                     \u001b[0mprint\u001b[0m\u001b[0;34m(\u001b[0m\u001b[0mexc\u001b[0m\u001b[0;34m.\u001b[0m\u001b[0mtraceback\u001b[0m\u001b[0;34m)\u001b[0m\u001b[0;34m\u001b[0m\u001b[0;34m\u001b[0m\u001b[0m\n\u001b[0;32m--> 711\u001b[0;31m                 \u001b[0;32mraise\u001b[0m \u001b[0mexc\u001b[0m\u001b[0;34m\u001b[0m\u001b[0;34m\u001b[0m\u001b[0m\n\u001b[0m\u001b[1;32m    712\u001b[0m \u001b[0;34m\u001b[0m\u001b[0m\n\u001b[1;32m    713\u001b[0m             \u001b[0;31m# If e is neither DatabaseError or IOError, It's a bug.\u001b[0m\u001b[0;34m\u001b[0m\u001b[0;34m\u001b[0m\u001b[0m\n",
            "\u001b[0;31mOperationalError\u001b[0m: (2003, \"Can't connect to MySQL server on '11.111.111.111' (timed out)\")"
          ]
        }
      ]
    }
  ]
}